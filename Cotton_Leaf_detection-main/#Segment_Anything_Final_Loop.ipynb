{
 "cells": [
  {
   "cell_type": "code",
   "execution_count": 2,
   "id": "532ae90e",
   "metadata": {},
   "outputs": [],
   "source": [
    "import os\n",
    "import numpy as np\n",
    "import matplotlib.pyplot as plt\n",
    "import cv2\n",
    "import torch\n",
    "import torchvision\n",
    "os.environ[\"KMP_DUPLICATE_LIB_OK\"]='True'\n",
    "os.environ[\"PYTORCH_CUDA_ALLOC_CONF\"] = \"caching_allocator\"\n",
    "os.environ['CUDA_LAUNCH_BLOCKING'] = '1'\n",
    "# torch.cuda.synchronize()"
   ]
  },
  {
   "cell_type": "code",
   "execution_count": 3,
   "id": "d83af504",
   "metadata": {},
   "outputs": [
    {
     "name": "stdout",
     "output_type": "stream",
     "text": [
      "CUDA is available: True\n"
     ]
    }
   ],
   "source": [
    "print(\"CUDA is available:\", torch.cuda.is_available())"
   ]
  },
  {
   "cell_type": "code",
   "execution_count": 4,
   "id": "d3b75957",
   "metadata": {},
   "outputs": [],
   "source": [
    "def show_anns(anns):\n",
    "    if len(anns) == 0:\n",
    "        return\n",
    "    sorted_anns = sorted(anns, key=(lambda x: x['area']), reverse=True)\n",
    "    ax = plt.gca()\n",
    "    ax.set_autoscale_on(False)\n",
    "\n",
    "    img = np.ones((sorted_anns[0]['segmentation'].shape[0], sorted_anns[0]['segmentation'].shape[1], 4))\n",
    "    img[:,:,3] = 0\n",
    "    for ann in sorted_anns:\n",
    "        m = ann['segmentation']\n",
    "        color_mask = np.concatenate([np.random.random(3), [0.35]])\n",
    "        img[m] = color_mask\n",
    "    ax.imshow(img)"
   ]
  },
  {
   "cell_type": "code",
   "execution_count": 5,
   "id": "b7bd13fb",
   "metadata": {},
   "outputs": [],
   "source": [
    "from segment_anything import sam_model_registry, SamAutomaticMaskGenerator, SamPredictor\n",
    "\n",
    "sam_checkpoint = \"sam_vit_h_4b8939.pth\"\n",
    "model_type = \"vit_h\"\n",
    "\n",
    "device = \"cuda\""
   ]
  },
  {
   "cell_type": "code",
   "execution_count": 6,
   "id": "66453b6a",
   "metadata": {},
   "outputs": [],
   "source": [
    "sam = sam_model_registry[model_type](checkpoint=sam_checkpoint)\n"
   ]
  },
  {
   "cell_type": "code",
   "execution_count": 7,
   "id": "a75712ed",
   "metadata": {},
   "outputs": [],
   "source": [
    "mask_generator = SamAutomaticMaskGenerator(\n",
    "    model=sam,\n",
    "    points_per_side=32,\n",
    "    pred_iou_thresh=0.7,\n",
    "    stability_score_thresh=0.85,\n",
    "    crop_n_layers=1,\n",
    "    crop_n_points_downscale_factor=2,\n",
    "    min_mask_region_area=50,  # Requires open-cv to run post-processing\n",
    ")"
   ]
  },
  {
   "cell_type": "markdown",
   "id": "108a3ed2",
   "metadata": {},
   "source": [
    "## Loop through the images in a folder "
   ]
  },
  {
   "cell_type": "code",
   "execution_count": 8,
   "id": "01fb0622",
   "metadata": {},
   "outputs": [],
   "source": [
    "folder_path = \"C:\\\\Users\\\\Dr. Bhavanishankar K\\\\Downloads\\\\Cotton-Disease-Training\\\\trainning\\\\Cotton leaves - Training\\\\800 Images\\\\Powdery mildew\""
   ]
  },
  {
   "cell_type": "code",
   "execution_count": 9,
   "id": "8254f9b4",
   "metadata": {},
   "outputs": [
    {
     "name": "stdout",
     "output_type": "stream",
     "text": [
      "Number of Images: 800\n"
     ]
    }
   ],
   "source": [
    "files = os.listdir(folder_path)\n",
    "# Filter only image files (you may want to add more extensions)\n",
    "image_files = [file for file in files if file.lower().endswith(('.png', '.jpg', '.jpeg'))]\n",
    "print(f\"Number of Images: {len(image_files)}\")"
   ]
  },
  {
   "cell_type": "code",
   "execution_count": 11,
   "id": "0eecb459",
   "metadata": {},
   "outputs": [
    {
     "name": "stdout",
     "output_type": "stream",
     "text": [
      "The destination path to store is 'C:\\Users\\Dr. Bhavanishankar K\\Desktop\\Powdery mildew'\n",
      "Empty folder 'Powdery mildew' created at 'C:\\Users\\Dr. Bhavanishankar K\\Desktop'\n",
      "The final path to store is 'C:\\Users\\Dr. Bhavanishankar K\\Desktop\\Powdery mildew'\n"
     ]
    }
   ],
   "source": [
    "def create_empty_folder(path, folder_name):\n",
    "    # Join the path and folder name to get the complete folder path\n",
    "    folder_path = os.path.join(path, folder_name)\n",
    "\n",
    "    # Check if the folder already exists\n",
    "    if not os.path.exists(folder_path):\n",
    "        # If it doesn't exist, create the folder\n",
    "        os.makedirs(folder_path)\n",
    "        print(f\"Empty folder '{folder_name}' created at '{path}'\")\n",
    "        print(f\"The final path to store is '{folder_path}'\")\n",
    "    else:\n",
    "        print(f\"Folder '{folder_name}' already exists at '{path}'\")\n",
    "\n",
    "path_to_create_folder = \"C:\\\\Users\\\\Dr. Bhavanishankar K\\\\Desktop\"\n",
    "folder_to_create = \"Powdery mildew\"\n",
    "\n",
    "final_folder_path = os.path.join(path_to_create_folder, folder_to_create)\n",
    "print(f\"The destination path to store is '{final_folder_path}'\")\n",
    "create_empty_folder(path_to_create_folder, folder_to_create)\n"
   ]
  },
  {
   "cell_type": "code",
   "execution_count": null,
   "id": "cfc297fb",
   "metadata": {},
   "outputs": [],
   "source": [
    "for image_file in image_files:\n",
    "    image_path = os.path.join(folder_path, image_file)\n",
    "    \n",
    "    image = cv2.imread(image_path)\n",
    "    image = cv2.cvtColor(image, cv2.COLOR_BGR2RGB)\n",
    "\n",
    "    masks = mask_generator.generate(image)\n",
    "    \n",
    "    # Load the original image\n",
    "    original_image = cv2.imread(image_path)\n",
    "    original_image_rgb = cv2.cvtColor(original_image, cv2.COLOR_BGR2RGB)\n",
    "    \n",
    "    # Iterate through masks and apply them to the original image\n",
    "    segmented_images = []\n",
    "    for mask in masks:\n",
    "        segmentation_mask = mask['segmentation']\n",
    "        # Create a binary mask with 1s where the segment is present\n",
    "        binary_mask = np.zeros_like(segmentation_mask, dtype=np.uint8)\n",
    "        binary_mask[segmentation_mask] = 255\n",
    "\n",
    "        # Apply the mask to the original image using bitwise AND operation\n",
    "        segmented_image = cv2.bitwise_and(original_image_rgb, original_image_rgb, mask=binary_mask)\n",
    "        segmented_images.append(segmented_image)\n",
    "        \n",
    "    # Function to blend a segment onto a canvas\n",
    "    def blend_segment(canvas, segment, top, left):\n",
    "        # Resize the original segment to its original size\n",
    "        original_segment_resized = cv2.resize(segment, (segment_width, segment_height))\n",
    "\n",
    "        # Create an alpha channel with reduced Gaussian blur\n",
    "        alpha_channel = (original_segment_resized[..., 0] != 0).astype(np.uint8) * 255\n",
    "        alpha_channel = cv2.GaussianBlur(alpha_channel, (0, 0), sigmaX=0.5)  # Adjust sigmaX as needed\n",
    "\n",
    "        # Normalize alpha channel to be in the range [0, 1]\n",
    "        alpha_blend = alpha_channel / 255.0\n",
    "\n",
    "        # Blend the resized segment with the canvas using alpha blending\n",
    "        for c in range(3):\n",
    "            canvas[top:top + original_segment_resized.shape[0], left:left + original_segment_resized.shape[1], c] = (\n",
    "                alpha_blend * original_segment_resized[..., c] + (1 - alpha_blend) * canvas[top:top + original_segment_resized.shape[0], left:left + original_segment_resized.shape[1], c]\n",
    "            )\n",
    "    \n",
    "    # Load the original image in RGB format\n",
    "    original_image = cv2.imread(image_path) \n",
    "    original_image = cv2.cvtColor(original_image, cv2.COLOR_BGR2RGB)  \n",
    "\n",
    "    # Check if the image is loaded successfully\n",
    "    if original_image is None:\n",
    "        raise ValueError(\"Failed to load the original image. Please check the file path.\")\n",
    "\n",
    "    # Get the dimensions of the original image\n",
    "    original_height, original_width, _ = original_image.shape\n",
    "\n",
    "    # Define canvas dimensions\n",
    "    canvas_height = original_height\n",
    "    canvas_width = original_width\n",
    "\n",
    "    # Create a canvas to merge segments onto\n",
    "    canvas = np.zeros((canvas_height, canvas_width, 3), dtype=np.uint8)\n",
    "    \n",
    "    # Iterate through masks and apply them to the canvas\n",
    "    for idx, mask in enumerate(masks):\n",
    "        segmentation_mask = mask['segmentation']\n",
    "        binary_mask = np.zeros_like(segmentation_mask, dtype=np.uint8)\n",
    "        binary_mask[segmentation_mask] = 255\n",
    "\n",
    "        # Find contours in the binary mask\n",
    "        contours, _ = cv2.findContours(binary_mask, cv2.RETR_EXTERNAL, cv2.CHAIN_APPROX_SIMPLE)\n",
    "\n",
    "        # Iterate through contours and blend each segment onto the canvas\n",
    "        for contour in contours:\n",
    "            x, y, w, h = cv2.boundingRect(contour)\n",
    "\n",
    "            # Set segment width and height dynamically\n",
    "            segment_width, segment_height = w, h\n",
    "\n",
    "            segment = original_image[y:y+h, x:x+w, :]\n",
    "\n",
    "            # Calculate the top-left position for blending\n",
    "            top = y\n",
    "            left = x\n",
    "\n",
    "            # Blend the segment onto the canvas\n",
    "            blend_segment(canvas, segment, top, left)\n",
    "    \n",
    "    original_image_path = image_path\n",
    "    \n",
    "    # Extract the filename and extension from the original image path\n",
    "    original_filename, original_extension = os.path.splitext(os.path.basename(original_image_path))\n",
    "\n",
    "    # Construct the output filename with \"_sa\" included\n",
    "    output_filename = f\"{original_filename}_sa{original_extension}\"\n",
    "\n",
    "    # Specify the output directory\n",
    "    output_directory = final_folder_path\n",
    "\n",
    "    # Construct the full output filepath\n",
    "    output_filepath = os.path.join(output_directory, output_filename)\n",
    "\n",
    "    # Save the merged image to the specified file\n",
    "    cv2.imwrite(output_filepath, cv2.cvtColor(canvas, cv2.COLOR_RGB2BGR))\n",
    "\n",
    "    print(f\"Generated image saved to: {final_folder_path}\")\n",
    "\n"
   ]
  },
  {
   "cell_type": "code",
   "execution_count": null,
   "id": "a87f922c",
   "metadata": {},
   "outputs": [],
   "source": []
  }
 ],
 "metadata": {
  "kernelspec": {
   "display_name": "Python 3 (ipykernel)",
   "language": "python",
   "name": "python3"
  },
  "language_info": {
   "codemirror_mode": {
    "name": "ipython",
    "version": 3
   },
   "file_extension": ".py",
   "mimetype": "text/x-python",
   "name": "python",
   "nbconvert_exporter": "python",
   "pygments_lexer": "ipython3",
   "version": "3.11.5"
  }
 },
 "nbformat": 4,
 "nbformat_minor": 5
}
